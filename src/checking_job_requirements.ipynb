{
  "cells": [
    {
      "cell_type": "markdown",
      "source": [
        "after the first set up of src/job.yml I was getting \n",
        "\n",
        "```\n",
        "(UserError) System.Net.Http.HttpConnectionResponseContent\n",
        "Code: UserError\n",
        "Message: System.Net.Http.HttpConnectionResponseContent\n",
        "```\n",
        "which suggests a problem with either my connection, the name assigned as environment in the job or the name assigned as compute. So here are the debug"
      ],
      "metadata": {
        "nteract": {
          "transient": {
            "deleting": false
          }
        }
      }
    },
    {
      "cell_type": "code",
      "source": [
        "from azureml.core import Workspace, ComputeTarget\n",
        "\n",
        "# Load the workspace from the saved config file\n",
        "ws = Workspace.from_config()\n",
        "\n",
        "# Define the name of the compute target\n",
        "compute_name = 'iannimuliterno1'\n",
        "\n",
        "# Check if the compute target exists, otherwise create it\n",
        "\n",
        "compute_target = ComputeTarget(workspace=ws, name=compute_name)\n",
        "print(f'Found existing compute target: {compute_name}')\n"
      ],
      "outputs": [
        {
          "output_type": "stream",
          "name": "stdout",
          "text": "Found existing compute target: iannimuliterno1\n"
        }
      ],
      "execution_count": 2,
      "metadata": {
        "gather": {
          "logged": 1716902529811
        }
      }
    },
    {
      "cell_type": "markdown",
      "source": [],
      "metadata": {
        "nteract": {
          "transient": {
            "deleting": false
          }
        }
      }
    },
    {
      "cell_type": "code",
      "source": [
        "from azureml.core import Workspace, Environment\n",
        "\n",
        "# Load the workspace from the saved config file\n",
        "ws = Workspace.from_config()\n",
        "\n",
        "# Define the name of the environment\n",
        "env_name = 'Standard_DS11_v2'\n",
        "\n",
        "# Check if the environment exists\n",
        "try:\n",
        "    env = Environment.get(workspace=ws, name=env_name)\n",
        "    print(f'Found existing environment: {env_name}')\n",
        "except Exception as e:\n",
        "    print(f'Environment {env_name} not found. Please check your environment setup.')\n"
      ],
      "outputs": [
        {
          "output_type": "stream",
          "name": "stdout",
          "text": "Environment Standard_DS11_v2 not found. Please check your environment setup.\n"
        }
      ],
      "execution_count": 3,
      "metadata": {
        "jupyter": {
          "source_hidden": false,
          "outputs_hidden": false
        },
        "nteract": {
          "transient": {
            "deleting": false
          }
        },
        "gather": {
          "logged": 1716902558398
        }
      }
    },
    {
      "cell_type": "code",
      "source": [
        "from azureml.core import Workspace, Environment\n",
        "\n",
        "# Load the workspace from the saved config file\n",
        "ws = Workspace.from_config()\n",
        "\n",
        "# List all environments in the workspace\n",
        "envs = Environment.list(workspace=ws)\n",
        "for env_name, env in envs.items():\n",
        "    print(env_name)\n"
      ],
      "outputs": [
        {
          "output_type": "stream",
          "name": "stdout",
          "text": "AzureML-ACPT-pytorch-1.13-py38-cuda11.7-gpu\n"
        }
      ],
      "execution_count": 4,
      "metadata": {
        "jupyter": {
          "source_hidden": false,
          "outputs_hidden": false
        },
        "nteract": {
          "transient": {
            "deleting": false
          }
        },
        "gather": {
          "logged": 1716902622200
        }
      }
    },
    {
      "cell_type": "markdown",
      "source": [
        "# creating a new environment\n",
        "after confirming that the  compute exists and is correct, here's how we can create an environment to run our sscript"
      ],
      "metadata": {
        "nteract": {
          "transient": {
            "deleting": false
          }
        }
      }
    },
    {
      "cell_type": "code",
      "source": [
        "from azureml.core import Workspace, Environment\n",
        "from azureml.core.conda_dependencies import CondaDependencies\n",
        "\n",
        "# Load the workspace from the saved config file\n",
        "ws = Workspace.from_config()\n",
        "\n",
        "# Create a new environment\n",
        "env = Environment(name=\"my-new-environment\")\n",
        "\n",
        "# Define dependencies\n",
        "conda_dep = CondaDependencies()\n",
        "\n",
        "# Add necessary packages\n",
        "conda_dep.add_conda_package(\"numpy\")\n",
        "conda_dep.add_conda_package(\"pandas\")\n",
        "conda_dep.add_pip_package(\"scikit-learn\")\n",
        "\n",
        "# Add the dependencies to the environment\n",
        "env.python.conda_dependencies = conda_dep\n",
        "\n",
        "# Specify a Docker image\n",
        "env.docker.enabled = True\n",
        "env.docker.base_image = \"mcr.microsoft.com/azureml/openmpi4.1.0-ubuntu20.04\"\n",
        "\n",
        "# Register the environment\n",
        "env.register(workspace=ws)\n",
        "print(f'Environment {env.name} is registered to the workspace')\n"
      ],
      "outputs": [
        {
          "output_type": "stream",
          "name": "stderr",
          "text": "'enabled' is deprecated. Please use the azureml.core.runconfig.DockerConfiguration object with the 'use_docker' param instead.\n"
        },
        {
          "output_type": "stream",
          "name": "stdout",
          "text": "Environment my-new-environment is registered to the workspace\n"
        }
      ],
      "execution_count": 5,
      "metadata": {
        "jupyter": {
          "source_hidden": false,
          "outputs_hidden": false
        },
        "nteract": {
          "transient": {
            "deleting": false
          }
        },
        "gather": {
          "logged": 1716902887360
        }
      }
    }
  ],
  "metadata": {
    "kernelspec": {
      "name": "python310-sdkv2",
      "language": "python",
      "display_name": "Python 3.10 - SDK v2"
    },
    "language_info": {
      "name": "python",
      "version": "3.10.11",
      "mimetype": "text/x-python",
      "codemirror_mode": {
        "name": "ipython",
        "version": 3
      },
      "pygments_lexer": "ipython3",
      "nbconvert_exporter": "python",
      "file_extension": ".py"
    },
    "microsoft": {
      "ms_spell_check": {
        "ms_spell_check_language": "en"
      },
      "host": {
        "AzureML": {
          "notebookHasBeenCompleted": true
        }
      }
    },
    "kernel_info": {
      "name": "python310-sdkv2"
    },
    "nteract": {
      "version": "nteract-front-end@1.0.0"
    }
  },
  "nbformat": 4,
  "nbformat_minor": 2
}